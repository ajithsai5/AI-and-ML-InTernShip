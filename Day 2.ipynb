{
 "cells": [
  {
   "cell_type": "markdown",
   "metadata": {},
   "source": [
    "# Artificial Intelligence And Machine Learning INTERNSHIP\n",
    "### Day NO:-2\n",
    "### Date - 26-05-19"
   ]
  },
  {
   "cell_type": "markdown",
   "metadata": {},
   "source": [
    "## Day Objectives\n",
    "1. Data Analysis of Mobile apps data"
   ]
  },
  {
   "cell_type": "markdown",
   "metadata": {},
   "source": [
    "## Task 1:-\n",
    "\n",
    "#### Problem Statements:-\n",
    "\n",
    "Compute the total number of unique apps from the dataset"
   ]
  },
  {
   "cell_type": "code",
   "execution_count": 2,
   "metadata": {},
   "outputs": [],
   "source": [
    "import pandas as pd\n",
    "def data(filename):\n",
    "    df=pd.read_csv(filename)\n",
    "    return df \n",
    "data('DataFile/AppleStore.csv')\n",
    "df=data('DataFile/AppleStore.csv')"
   ]
  },
  {
   "cell_type": "code",
   "execution_count": 3,
   "metadata": {},
   "outputs": [
    {
     "name": "stdout",
     "output_type": "stream",
     "text": [
      "7195\n"
     ]
    }
   ],
   "source": [
    "def unique(list1):  \n",
    "    unique_list = [] \n",
    "    for x in list1: \n",
    "        if x not in unique_list: \n",
    "            unique_list.append(x)\n",
    "    print(len(unique_list))\n",
    "list1=[]               \n",
    "for i in df.values:\n",
    "    list1.append(i[2])\n",
    "unique(list1)"
   ]
  },
  {
   "cell_type": "markdown",
   "metadata": {},
   "source": [
    "## Task 2:-\n",
    "\n",
    "#### Problem Statements:-\n",
    "Print the Top 10 apps along with their rating based on the number of downloads(rating_count_tot)"
   ]
  },
  {
   "cell_type": "code",
   "execution_count": 4,
   "metadata": {},
   "outputs": [
    {
     "name": "stdout",
     "output_type": "stream",
     "text": [
      "Facebook = 2974676\n",
      "Instagram = 2161558\n",
      "Clash of Clans = 2130805\n",
      "Temple Run = 1724546\n",
      "Pandora - Music & Radio = 1126879\n",
      "Pinterest = 1061624\n",
      "Bible = 985920\n",
      "Candy Crush Saga = 961794\n",
      "Spotify Music = 878563\n",
      "Angry Birds = 824451\n",
      "Subway Surfers = 706110\n"
     ]
    }
   ],
   "source": [
    "def Data1(df):\n",
    "    list1=[] \n",
    "    for i in df.values:\n",
    "        list1.append(i[6])\n",
    "\n",
    "    list1.sort(reverse=True)\n",
    "    for i in range(0,11):\n",
    "        for r in df.values:\n",
    "            if list1[i] in r:\n",
    "                print(r[2],\"=\",list1[i])\n",
    "Data1(df)"
   ]
  },
  {
   "cell_type": "markdown",
   "metadata": {},
   "source": [
    "## Task 3:-\n",
    "\n",
    "#### Problem Statements:-\n",
    "\n",
    "Categorise the dataset based on content rating into the following\n",
    "* Number of apps with content rating 4+\n",
    "* Number of apps with content rating 9+\n",
    "* Number of apps with content rating 12+\n",
    "* Number of apps with content rating 17+\n"
   ]
  },
  {
   "cell_type": "code",
   "execution_count": 6,
   "metadata": {},
   "outputs": [
    {
     "name": "stdout",
     "output_type": "stream",
     "text": [
      "4+: 4433\n",
      "5+: 987\n",
      "12+: 1155\n",
      "17+: 622\n"
     ]
    }
   ],
   "source": [
    "def Data2(df):\n",
    "    co4 = 0\n",
    "    co9 = 0\n",
    "    co12 = 0\n",
    "    co17 = 0\n",
    "    for i in df.values:\n",
    "        if(i[11] == '4+'):\n",
    "            co4 = co4  + 1\n",
    "        elif(i[11] == '9+'):\n",
    "            co9 = co9  + 1\n",
    "        elif(i[11] == '12+'):\n",
    "            co12 = co12  + 1\n",
    "        elif(i[11] == '17+'):\n",
    "            co17 = co17  + 1\n",
    "    print('4+:',co4)\n",
    "    print('5+:',co9)\n",
    "    print('12+:',co12)\n",
    "    print('17+:',co17)\n",
    "Data2(df)"
   ]
  },
  {
   "cell_type": "code",
   "execution_count": null,
   "metadata": {},
   "outputs": [],
   "source": []
  }
 ],
 "metadata": {
  "kernelspec": {
   "display_name": "Python 3",
   "language": "python",
   "name": "python3"
  },
  "language_info": {
   "codemirror_mode": {
    "name": "ipython",
    "version": 3
   },
   "file_extension": ".py",
   "mimetype": "text/x-python",
   "name": "python",
   "nbconvert_exporter": "python",
   "pygments_lexer": "ipython3",
   "version": "3.7.3"
  }
 },
 "nbformat": 4,
 "nbformat_minor": 2
}
