{
 "cells": [
  {
   "cell_type": "markdown",
   "metadata": {},
   "source": [
    "# Artificial Intelligence And Machine Learning INTERNSHIP\n",
    "### Day NO:-7\n",
    "### Date - 31-05-19"
   ]
  },
  {
   "cell_type": "markdown",
   "metadata": {},
   "source": [
    "## Task 1:-\n",
    "\n",
    "#### Problem Statements:-\n",
    "\n",
    "How many runs of  Dhoni  On 4/23/2008  Chennai Super Kings vs Mumbai Indians Match ( Use Oops concepts)\n",
    "\n",
    "###### Datasets: \n",
    "* Match.csv => Match details (match id , teams, location etc) \n",
    "* Player.csv => Player Details (player id, name,team name, etc)\n",
    "* Ball_By_Ball => Ball to ball details (match id , striker, runs, over id, ball id etc)\n"
   ]
  },
  {
   "cell_type": "code",
   "execution_count": 124,
   "metadata": {},
   "outputs": [],
   "source": [
    "import matplotlib.pyplot as plt\n",
    "import matplotlib.mlab as mlab\n",
    "import pandas as pd\n",
    "class DataList:\n",
    "    def data_list1(filename):\n",
    "        d=pd.read_csv(filename)\n",
    "        return d\n",
    "    def compar(df,ta1,ta2,date):\n",
    "        for i in df.values:\n",
    "            if(i[2]==ta1 and i[3]==ta2 and i[4]==date):\n",
    "                return i[1]\n",
    "    def compar1(df1,name):\n",
    "        for i in df1.values:\n",
    "            if(i[2]==name ):\n",
    "                return i[1]\n",
    "    def Runs(df2,a,b,date):\n",
    "        sum=0\n",
    "        for i in df2.values:\n",
    "            if(i[0]==a and i[27]==date and i[29]==b):\n",
    "                sum=sum+i[8]\n",
    "        print(sum)"
   ]
  },
  {
   "cell_type": "code",
   "execution_count": 125,
   "metadata": {},
   "outputs": [
    {
     "name": "stdout",
     "output_type": "stream",
     "text": [
      "30\n"
     ]
    }
   ],
   "source": [
    "df=DataList.data_list1('DataFile/Match.csv')\n",
    "df1=DataList.data_list1('DataFile/Player.csv')\n",
    "df2=DataList.data_list1('DataFile/Ball_By_Ball.csv')\n",
    "matchId=DataList.compar(df,'Chennai Super Kings','Mumbai Indians','4/23/2008')\n",
    "playerId=DataList.compar1(df1,'MS Dhoni')\n",
    "run=DataList.Runs(df2,matchId,playerId,'4/23/2008')"
   ]
  },
  {
   "cell_type": "markdown",
   "metadata": {},
   "source": [
    "## Task 2:-\n",
    "\n",
    "#### Problem Statements:-\n",
    "\n",
    "* 4/23/2008  Chennai Super Kings vs Mumbai Indians Match\n",
    "###### Plot a bar graph for all the players in the   Mumbai Indians  team\n"
   ]
  },
  {
   "cell_type": "code",
   "execution_count": 358,
   "metadata": {},
   "outputs": [],
   "source": [
    "import matplotlib.pyplot as plt\n",
    "import matplotlib.mlab as mlab\n",
    "import pandas as pd \n",
    "import numpy as np \n",
    "class DataList:\n",
    "    def data_list1(filename):\n",
    "        d=pd.read_csv(filename)\n",
    "        return d\n",
    "    def compar(df,ta1,ta2,data):\n",
    "        for i in df.values:\n",
    "            if(i[2]==ta1 and i[3]==ta2 and i[4]==data):\n",
    "                return i[1]\n",
    "    def compar1(df3,a,b):\n",
    "        l1=[]\n",
    "        l2=[]\n",
    "        for i in df3.values:\n",
    "            if(i[2]==b and i[10]==a):\n",
    "                l1.append(i[4])\n",
    "                l2.append(i[5])\n",
    "        return l1\n",
    "    def compar2(df1,name):\n",
    "        l3=[]\n",
    "        for j in range(0,len(playerList)):\n",
    "            for i in df1.values:\n",
    "                if(i[2]==playerList[j]):\n",
    "                    l3.append(i[1])\n",
    "        return l3\n",
    "    def Runs(df2,a,b,date):\n",
    "        l4=[]\n",
    "        for j in range (0,len(b)):\n",
    "            sum=0\n",
    "            for i in df2.values:\n",
    "                if(i[0]==a  and i[29]==b[j] and i[27]==date):\n",
    "                    sum=sum+i[8]\n",
    "            l4.append(sum)\n",
    "        return l4\n",
    "    def bar_graph(u,w):\n",
    "        x=1/2\n",
    "        plt.bar(u,w,x,color=('Black','Purple','Red'))\n",
    "        plt.rcParams['figure.figsize']=[20,20]\n",
    "        plt.xlabel('PlayerList')\n",
    "        plt.ylabel('Runs')\n",
    "        plt.title('Grahp:-A')\n",
    "        plt.show"
   ]
  },
  {
   "cell_type": "code",
   "execution_count": 359,
   "metadata": {},
   "outputs": [
    {
     "data": {
      "image/png": "[encoded data removed]",
      "text/plain": [
       "<Figure size 1440x720 with 1 Axes>"
      ]
     },
     "metadata": {
      "needs_background": "light"
     },
     "output_type": "display_data"
    }
   ],
   "source": [
    "df=DataList.data_list1('DataFile/Match.csv')\n",
    "df1=DataList.data_list1('DataFile/Player.csv')\n",
    "df2=DataList.data_list1('DataFile/Ball_By_Ball.csv')\n",
    "df3=DataList.data_list1('DataFile/Player_match.csv')\n",
    "df4=DataList.data_list1('DataFile/team.csv')\n",
    "matchId=DataList.compar(df,'Chennai Super Kings','Mumbai Indians','4/23/2008')\n",
    "playerList=DataList.compar1(df3,'Mumbai Indians',matchId)\n",
    "playerId=DataList.compar2(df1,playerList)\n",
    "run=DataList.Runs(df2,matchId,playerId,'4/23/2008')\n",
    "DataList.bar_graph(playerList,run)"
   ]
  },
  {
   "cell_type": "code",
   "execution_count": null,
   "metadata": {},
   "outputs": [],
   "source": []
  }
 ],
 "metadata": {
  "kernelspec": {
   "display_name": "Python 3",
   "language": "python",
   "name": "python3"
  },
  "language_info": {
   "codemirror_mode": {
    "name": "ipython",
    "version": 3
   },
   "file_extension": ".py",
   "mimetype": "text/x-python",
   "name": "python",
   "nbconvert_exporter": "python",
   "pygments_lexer": "ipython3",
   "version": "3.7.3"
  }
 },
 "nbformat": 4,
 "nbformat_minor": 2
}
